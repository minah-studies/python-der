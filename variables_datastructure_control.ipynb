{
 "cells": [
  {
   "metadata": {},
   "cell_type": "markdown",
   "source": [
    "# Variables\n",
    "### print station name(64p)"
   ],
   "id": "237f1c7b795bf496"
  },
  {
   "cell_type": "code",
   "id": "initial_id",
   "metadata": {
    "collapsed": true,
    "ExecuteTime": {
     "end_time": "2024-11-27T08:26:03.609649Z",
     "start_time": "2024-11-27T08:26:03.603362Z"
    }
   },
   "source": [
    "suffix = \"행 열차가 들어오고 있습니다.\"\n",
    "\n",
    "station = \"사당\"\n",
    "print(station + suffix)\n",
    "\n",
    "station = \"신도림\"\n",
    "print(station + suffix)\n",
    "\n",
    "station = \"인천공항\"\n",
    "print(station + suffix)"
   ],
   "outputs": [
    {
     "name": "stdout",
     "output_type": "stream",
     "text": [
      "사당행 열차가 들어오고 있습니다.\n",
      "신도림행 열차가 들어오고 있습니다.\n",
      "인천공항행 열차가 들어오고 있습니다.\n"
     ]
    }
   ],
   "execution_count": 1
  },
  {
   "metadata": {},
   "cell_type": "markdown",
   "source": "### print delivery status(67p)",
   "id": "c78756e70159375b"
  },
  {
   "metadata": {
    "ExecuteTime": {
     "end_time": "2024-11-27T08:29:45.260644Z",
     "start_time": "2024-11-27T08:29:45.255001Z"
    }
   },
   "cell_type": "code",
   "source": [
    "prefix = \"주문상태 : \"\n",
    "\n",
    "status = \"상품 준비\"\n",
    "print(prefix + status)\n",
    "\n",
    "status = \"배송 중\"\n",
    "print(prefix + status)\n",
    "\n",
    "status = \"배송 완료\"\n",
    "print(prefix + status)"
   ],
   "id": "dcc47f0b256686b0",
   "outputs": [
    {
     "name": "stdout",
     "output_type": "stream",
     "text": [
      "주문상태 : 상품 준비\n",
      "주문상태 : 배송 중\n",
      "주문상태 : 배송 완료\n"
     ]
    }
   ],
   "execution_count": 2
  },
  {
   "metadata": {},
   "cell_type": "markdown",
   "source": [
    "# Operator\n",
    "### pick study date randomly(88p)\n"
   ],
   "id": "7d24627942aa1f68"
  },
  {
   "metadata": {
    "ExecuteTime": {
     "end_time": "2024-11-27T08:48:59.140005Z",
     "start_time": "2024-11-27T08:48:59.135560Z"
    }
   },
   "cell_type": "code",
   "source": [
    "from random import randint\n",
    "\n",
    "print(\"오프라인 스터디 모임 날짜는 매월 \" + str(randint(4, 28)) + \"일로 선정됐습니다.\")"
   ],
   "id": "948019ebe46be68c",
   "outputs": [
    {
     "name": "stdout",
     "output_type": "stream",
     "text": [
      "오프라인 스터디 모임 날짜는 매월 20일로 선정됐습니다.\n"
     ]
    }
   ],
   "execution_count": 7
  },
  {
   "metadata": {},
   "cell_type": "markdown",
   "source": "### print Celsius and Fahrenheit(92p)\n",
   "id": "411365495104100a"
  },
  {
   "metadata": {
    "ExecuteTime": {
     "end_time": "2024-11-27T08:52:17.361496Z",
     "start_time": "2024-11-27T08:52:17.356617Z"
    }
   },
   "cell_type": "code",
   "source": [
    "celsius = 30\n",
    "fahrenheit = 9/5 * celsius + 32\n",
    "\n",
    "print(\"섭씨 온도 : \" + str(celsius))\n",
    "print(\"화씨 온도 : \" + str(fahrenheit))"
   ],
   "id": "95129194644e4269",
   "outputs": [
    {
     "name": "stdout",
     "output_type": "stream",
     "text": [
      "섭씨 온도 : 30\n",
      "화씨 온도 : 86.0\n"
     ]
    }
   ],
   "execution_count": 9
  },
  {
   "metadata": {},
   "cell_type": "markdown",
   "source": [
    "# String\n",
    "### make password(117p)"
   ],
   "id": "1dd4754dbf2f8d82"
  },
  {
   "metadata": {
    "ExecuteTime": {
     "end_time": "2024-11-28T00:59:40.385198Z",
     "start_time": "2024-11-28T00:59:40.380275Z"
    }
   },
   "cell_type": "code",
   "source": [
    "url = \"http://naver.com\"\n",
    "\n",
    "split_url = url[7:url.index(\".\")] # replace를 이용하여 http://를 지워도 됨\n",
    "password = split_url[:3] + str(len(split_url)) + str(split_url.count(\"e\")) + \"!\"\n",
    "\n",
    "print(f\"{url}의 비밀번호는 {password}입니다.\")"
   ],
   "id": "a12e46dfcb4fbae9",
   "outputs": [
    {
     "name": "stdout",
     "output_type": "stream",
     "text": [
      "http://naver.com의 비밀번호는 /na61!입니다.\n"
     ]
    }
   ],
   "execution_count": 18
  },
  {
   "metadata": {},
   "cell_type": "markdown",
   "source": "### convert cases(121p)",
   "id": "ad1fb04ed193d92e"
  },
  {
   "metadata": {
    "ExecuteTime": {
     "end_time": "2024-11-28T01:05:51.856805Z",
     "start_time": "2024-11-28T01:05:51.852784Z"
    }
   },
   "cell_type": "code",
   "source": [
    "sentence = \"the early bird catches the worm.\"\n",
    "\n",
    "first = sentence[0].upper()\n",
    "others = sentence[1:].lower()\n",
    "\n",
    "print(first + others)\n",
    "\n",
    "# print(sentence.capitalize())"
   ],
   "id": "d7308574c2d29a51",
   "outputs": [
    {
     "name": "stdout",
     "output_type": "stream",
     "text": [
      "The early bird catches the worm.\n",
      "The early bird catches the worm.\n"
     ]
    }
   ],
   "execution_count": 20
  }
 ],
 "metadata": {
  "kernelspec": {
   "display_name": "Python 3",
   "language": "python",
   "name": "python3"
  },
  "language_info": {
   "codemirror_mode": {
    "name": "ipython",
    "version": 2
   },
   "file_extension": ".py",
   "mimetype": "text/x-python",
   "name": "python",
   "nbconvert_exporter": "python",
   "pygments_lexer": "ipython2",
   "version": "2.7.6"
  }
 },
 "nbformat": 4,
 "nbformat_minor": 5
}
